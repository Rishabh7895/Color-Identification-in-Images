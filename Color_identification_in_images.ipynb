{
 "cells": [
  {
   "cell_type": "code",
   "execution_count": null,
   "id": "747ed114-2104-43c0-9226-920868a510bf",
   "metadata": {},
   "outputs": [],
   "source": [
    "import pandas as pd\n",
    "import cv2"
   ]
  },
  {
   "cell_type": "code",
   "execution_count": null,
   "id": "9768f233-3a88-4432-a60b-0a5618639eab",
   "metadata": {},
   "outputs": [],
   "source": [
    "img_path='pexels-steve-johnson-1585325.jpg'\n",
    "csv_path='colors.csv'"
   ]
  },
  {
   "cell_type": "code",
   "execution_count": null,
   "id": "07b97d6a-c904-449c-a381-979a96a60a22",
   "metadata": {},
   "outputs": [],
   "source": [
    "index= ['color','color_name','hex','R','G','B']\n",
    "df=pd.read_csv(csv_path,names=index,header=None)"
   ]
  },
  {
   "cell_type": "code",
   "execution_count": null,
   "id": "6c8b269c-7723-4354-83dc-5b954321fee9",
   "metadata": {},
   "outputs": [],
   "source": [
    "img= cv2.imread(img_path)\n",
    "img= cv2.resize(img,(800,600))"
   ]
  },
  {
   "cell_type": "code",
   "execution_count": null,
   "id": "b4f121c7-a8f9-43ea-b819-0da416eec725",
   "metadata": {},
   "outputs": [],
   "source": [
    "clicked=False\n",
    "r=g=b=ypos=0"
   ]
  },
  {
   "cell_type": "code",
   "execution_count": null,
   "id": "b6ee2f1b-6bcc-414a-ac4a-7091c781d8b0",
   "metadata": {},
   "outputs": [],
   "source": [
    "def get_color_name(R,G,B):\n",
    "  minimum=1000\n",
    "  for i in range(len(df)):\n",
    "    d=abs(R-int(df.loc[i,'R']))+abs(G-int(df.loc[i,'G']))+abs(B-int(df.loc[i,'B']))\n",
    "    if d<= minimum:\n",
    "      minimum=d\n",
    "      cname=df.loc[i,'color_name']\n",
    "  return cname"
   ]
  },
  {
   "cell_type": "code",
   "execution_count": null,
   "id": "68bb6334-48ab-4f49-b733-dbe4f55b6919",
   "metadata": {},
   "outputs": [],
   "source": [
    "def draw(event,x,y,flags,params):\n",
    "  if event==cv2.EVENT_LBUTTONDBLCLK:\n",
    "    global clicked,r,g,b,xpos,ypos\n",
    "    clicked=True\n",
    "    xpos=x\n",
    "    ypos=ypos\n",
    "    b,g,r=img[y,x]\n",
    "    b=int(b)\n",
    "    g=int(g)\n",
    "    r=int(r)"
   ]
  },
  {
   "cell_type": "code",
   "execution_count": null,
   "id": "ae1e9948-48e9-461e-9c67-8f01c4fe7fc6",
   "metadata": {},
   "outputs": [],
   "source": [
    "cv2.namedWindow('Image')\n",
    "cv2.setMouseCallback('Image',draw)\n",
    "while True:\n",
    "  cv2.imshow('Image',img)\n",
    "  if clicked:\n",
    "    cv2.rectangle(img,(20,20),(600,600),(b,g,r),-1)\n",
    "    text=get_color_name(r,g,b)+' R='+str(r)+' G='+str(g)+' B='+str(b)\n",
    "    cv2.putText(img,text,(50,50),2,0.8,(255,255,255),2,cv2.LINE_AA)\n",
    "    if r+g+b >= 600:\n",
    "      cv2.putText(img,text,(50,50),2,0.8,(0,0,0),2,cv2.LINE_AA)\n",
    "  if(cv2.waitKey(10) and 0xFF == 27):\n",
    "    break"
   ]
  },
  {
   "cell_type": "code",
   "execution_count": null,
   "id": "fe4863ff-8978-4102-a3e7-ea3b5d7f1c3f",
   "metadata": {},
   "outputs": [],
   "source": []
  },
  {
   "cell_type": "code",
   "execution_count": null,
   "id": "73c8334c-ca59-435f-aa9a-9f569ca756d0",
   "metadata": {},
   "outputs": [],
   "source": []
  }
 ],
 "metadata": {
  "kernelspec": {
   "display_name": "Python 3",
   "language": "python",
   "name": "python3"
  },
  "language_info": {
   "codemirror_mode": {
    "name": "ipython",
    "version": 3
   },
   "file_extension": ".py",
   "mimetype": "text/x-python",
   "name": "python",
   "nbconvert_exporter": "python",
   "pygments_lexer": "ipython3",
   "version": "3.9.5"
  },
  "toc-autonumbering": false
 },
 "nbformat": 4,
 "nbformat_minor": 5
}
